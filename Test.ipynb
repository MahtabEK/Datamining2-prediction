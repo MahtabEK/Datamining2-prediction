{
 "cells": [
  {
   "cell_type": "code",
   "execution_count": 8,
   "metadata": {},
   "outputs": [],
   "source": [
    "# remove warnings\n",
    "import warnings\n",
    "warnings.filterwarnings('ignore')\n",
    "# ---\n",
    "\n",
    "%matplotlib inline\n",
    "import pandas as pd\n",
    "pd.options.display.max_columns = 100\n",
    "from matplotlib import pyplot as plt\n",
    "import matplotlib\n",
    "matplotlib.style.use('ggplot')\n",
    "import numpy as np\n",
    "from sklearn.cross_validation import train_test_split\n",
    "from sklearn.tree import DecisionTreeClassifier\n",
    "from sklearn.metrics import accuracy_score\n",
    "from sklearn import tree\n",
    "\n",
    "pd.options.display.max_rows = 800"
   ]
  },
  {
   "cell_type": "code",
   "execution_count": 9,
   "metadata": {},
   "outputs": [],
   "source": [
    "df_train = pd.read_csv('train.csv')"
   ]
  },
  {
   "cell_type": "code",
   "execution_count": 10,
   "metadata": {},
   "outputs": [],
   "source": [
    "X_train = df_train.values[:, 0:9]\n",
    "Y_train = df_train.values[:,9]"
   ]
  },
  {
   "cell_type": "code",
   "execution_count": 11,
   "metadata": {},
   "outputs": [],
   "source": [
    "df_test = pd.read_csv('test.csv')"
   ]
  },
  {
   "cell_type": "code",
   "execution_count": 12,
   "metadata": {},
   "outputs": [],
   "source": [
    "df_test['Steel'].fillna('A', inplace=True)"
   ]
  },
  {
   "cell_type": "code",
   "execution_count": 13,
   "metadata": {},
   "outputs": [],
   "source": [
    "df_test['Condition'].fillna('S', inplace=True)"
   ]
  },
  {
   "cell_type": "code",
   "execution_count": 14,
   "metadata": {},
   "outputs": [],
   "source": [
    "mean_value= df_test['Formability'].mean()\n",
    "df_test['Formability']=df_test['Formability'].fillna(mean_value)"
   ]
  },
  {
   "cell_type": "code",
   "execution_count": 15,
   "metadata": {},
   "outputs": [],
   "source": [
    "df_test.loc[df_test['Surface_Quality'].isnull() & (df_test['Steel'] == \"R\"), 'Surface_Quality'] = df_test.loc[df_test['Surface_Quality'].isnull() & (df_test['Steel'] == \"R\"), 'Surface_Quality'].fillna('E')"
   ]
  },
  {
   "cell_type": "code",
   "execution_count": 16,
   "metadata": {},
   "outputs": [],
   "source": [
    "df_test.loc[df_test['Surface_Quality'].isnull() & (df_test['Steel'] == \"A\") & (df_test[' shape'] == \"SHEET\"), 'Surface_Quality'] = df_test.loc[df_test['Surface_Quality'].isnull() & (df_test['Steel'] == \"A\") & (df_test[' shape'] == \"SHEET\"), 'Surface_Quality'].fillna('F')"
   ]
  },
  {
   "cell_type": "code",
   "execution_count": 17,
   "metadata": {},
   "outputs": [],
   "source": [
    "df_test.loc[df_test['Surface_Quality'].isnull() & (df_test['Formability'] > 2) & (df_test['Formability'] < 3), 'Surface_Quality'] = df_test.loc[df_test['Surface_Quality'].isnull() & (df_test['Formability'] > 2) & (df_test['Formability'] < 3), 'Surface_Quality'].fillna('G')"
   ]
  },
  {
   "cell_type": "code",
   "execution_count": 18,
   "metadata": {},
   "outputs": [],
   "source": [
    "df_test['Surface_Quality'].fillna('E', inplace=True)"
   ]
  },
  {
   "cell_type": "code",
   "execution_count": 19,
   "metadata": {},
   "outputs": [],
   "source": [
    "mean_value= df_test['Formability'].mode()\n",
    "df_test['Formability']=df_test['Formability'].fillna(mean_value)"
   ]
  },
  {
   "cell_type": "code",
   "execution_count": 20,
   "metadata": {},
   "outputs": [],
   "source": [
    "clean1 = {\"Steel\": {\"R\": 0, \"A\":1, \"U\":2, \"K\":3, \"M\":4, \"S\":5, \"W\":6, \"V\":7}}\n",
    "df_test.replace(clean1, inplace=True)\n",
    "clean2 = {\" shape\": {\"COIL\": 0, \"SHEET\":1}}\n",
    "df_test.replace(clean2, inplace=True)\n",
    "clean3 = {\"Condition\": {\"S\":0, \"A\":1, \"X\":2}}\n",
    "df_test.replace(clean3, inplace=True)\n",
    "clean4 = {\"Surface_Quality\": {\"D\": 0, \"E\":1, \"F\":2, \"G\":3}}\n",
    "df_test.replace(clean4, inplace=True)"
   ]
  },
  {
   "cell_type": "code",
   "execution_count": 21,
   "metadata": {},
   "outputs": [],
   "source": [
    "X_test = df_test.values[:, 0:9]"
   ]
  },
  {
   "cell_type": "code",
   "execution_count": 22,
   "metadata": {},
   "outputs": [],
   "source": [
    "clf_gini = DecisionTreeClassifier(criterion = \"entropy\", max_depth=11, min_samples_split=2)\n",
    "clf_gini.fit(X_train, Y_train)\n",
    "y_pred = clf_gini.predict(X_test)"
   ]
  },
  {
   "cell_type": "code",
   "execution_count": 24,
   "metadata": {},
   "outputs": [],
   "source": [
    "np.savetxt('result.csv', y_pred, delimiter=\" \", fmt=\"%s\")"
   ]
  },
  {
   "cell_type": "code",
   "execution_count": null,
   "metadata": {},
   "outputs": [],
   "source": []
  }
 ],
 "metadata": {
  "kernelspec": {
   "display_name": "Python 3",
   "language": "python",
   "name": "python3"
  },
  "language_info": {
   "codemirror_mode": {
    "name": "ipython",
    "version": 3
   },
   "file_extension": ".py",
   "mimetype": "text/x-python",
   "name": "python",
   "nbconvert_exporter": "python",
   "pygments_lexer": "ipython3",
   "version": "3.6.4"
  }
 },
 "nbformat": 4,
 "nbformat_minor": 2
}
